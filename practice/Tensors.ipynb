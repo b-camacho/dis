{
 "cells": [
  {
   "cell_type": "code",
   "execution_count": 1,
   "metadata": {},
   "outputs": [],
   "source": [
    "from __future__ import print_function\n",
    "import torch"
   ]
  },
  {
   "cell_type": "code",
   "execution_count": 8,
   "metadata": {},
   "outputs": [
    {
     "data": {
      "text/plain": [
       "True"
      ]
     },
     "execution_count": 8,
     "metadata": {},
     "output_type": "execute_result"
    }
   ],
   "source": [
    "torch.cuda.is_available() # check GPU did not spaz out"
   ]
  },
  {
   "cell_type": "markdown",
   "metadata": {},
   "source": [
    "c-style random values in unitialised memory"
   ]
  },
  {
   "cell_type": "code",
   "execution_count": 9,
   "metadata": {},
   "outputs": [
    {
     "name": "stdout",
     "output_type": "stream",
     "text": [
      "tensor([[0.0000e+00, 0.0000e+00, 1.8788e+31],\n",
      "        [1.7220e+22, 5.9018e-10, 8.5036e+20],\n",
      "        [1.0187e-11, 1.0812e-05, 8.3090e-10],\n",
      "        [1.0430e-08, 8.1256e+20, 2.0774e+20],\n",
      "        [8.4113e+20, 3.1369e+27, 7.0800e+31]])\n",
      "tensor([[0.9217, 0.3537, 0.5862],\n",
      "        [0.7403, 0.1280, 0.8890],\n",
      "        [0.4866, 0.2441, 0.0879],\n",
      "        [0.7629, 0.3855, 0.8221],\n",
      "        [0.7575, 0.2490, 0.8704]])\n"
     ]
    }
   ],
   "source": [
    "x = torch.empty(5, 3)\n",
    "print(x)\n",
    "x = torch.rand(5, 3)\n",
    "print(x)"
   ]
  },
  {
   "cell_type": "markdown",
   "metadata": {},
   "source": [
    "make tensor from tensor keeps size the same\n",
    "\n",
    ".size() returns normal tuple"
   ]
  },
  {
   "cell_type": "code",
   "execution_count": 17,
   "metadata": {},
   "outputs": [
    {
     "name": "stdout",
     "output_type": "stream",
     "text": [
      "tensor([[ 0.6911, -0.7647, -0.7327],\n",
      "        [ 1.2840,  0.2016,  0.2367],\n",
      "        [ 1.4114,  2.7817,  0.3715],\n",
      "        [ 0.9186,  0.7406,  0.2175],\n",
      "        [-0.8408,  0.4175, -0.3297]])\n",
      "torch.Size([5, 3])\n"
     ]
    }
   ],
   "source": [
    "print(torch.randn_like(torch.ones(5, 3)))\n",
    "print(torch.ones(5,3).size())"
   ]
  },
  {
   "cell_type": "markdown",
   "metadata": {},
   "source": [
    "arithmetic has inplace and normal versions"
   ]
  },
  {
   "cell_type": "code",
   "execution_count": 24,
   "metadata": {},
   "outputs": [
    {
     "name": "stdout",
     "output_type": "stream",
     "text": [
      "tensor([[1.4495, 1.7141, 1.2684],\n",
      "        [1.4854, 1.7018, 1.9967],\n",
      "        [1.4050, 1.5406, 1.4306],\n",
      "        [1.2036, 1.3555, 1.8164],\n",
      "        [1.6319, 1.3772, 1.2500]])\n",
      "tensor([[1.4495, 1.7141, 1.2684],\n",
      "        [1.4854, 1.7018, 1.9967],\n",
      "        [1.4050, 1.5406, 1.4306],\n",
      "        [1.2036, 1.3555, 1.8164],\n",
      "        [1.6319, 1.3772, 1.2500]])\n",
      "tensor([1.7141, 1.7018, 1.5406, 1.3555, 1.3772])\n"
     ]
    }
   ],
   "source": [
    "x = torch.ones(5, 3)\n",
    "y = torch.rand(5, 3)\n",
    "print(x + y)\n",
    "x.add_(y)\n",
    "print(x)\n",
    "print(x[:, 1]) # select middle column with python indexing"
   ]
  },
  {
   "cell_type": "markdown",
   "metadata": {},
   "source": [
    ".view reshapes tensor, -1 infers size for given dimension"
   ]
  },
  {
   "cell_type": "code",
   "execution_count": 32,
   "metadata": {},
   "outputs": [
    {
     "name": "stdout",
     "output_type": "stream",
     "text": [
      "tensor([[0.2145, 0.7067, 0.2251, 0.7972, 0.1904, 0.0440, 0.0234, 0.1883],\n",
      "        [0.2889, 0.1281, 0.7873, 0.0774, 0.2588, 0.3558, 0.1669, 0.0792]])\n",
      "tensor([[[0.2145, 0.7067, 0.2251, 0.7972],\n",
      "         [0.1904, 0.0440, 0.0234, 0.1883]],\n",
      "\n",
      "        [[0.2889, 0.1281, 0.7873, 0.0774],\n",
      "         [0.2588, 0.3558, 0.1669, 0.0792]]])\n"
     ]
    }
   ],
   "source": [
    "x = torch.rand(4, 4)\n",
    "print(x.view(-1, 8)) # (2, 8)\n",
    "print(x.view(2, 2, -1)) # (2, 2, 4)"
   ]
  },
  {
   "cell_type": "markdown",
   "metadata": {},
   "source": [
    " send tensor to gpu"
   ]
  },
  {
   "cell_type": "code",
   "execution_count": 35,
   "metadata": {},
   "outputs": [
    {
     "name": "stdout",
     "output_type": "stream",
     "text": [
      "tensor([[1.2145, 1.7067, 1.2251, 1.7972],\n",
      "        [1.1904, 1.0440, 1.0234, 1.1883],\n",
      "        [1.2889, 1.1281, 1.7873, 1.0774],\n",
      "        [1.2588, 1.3558, 1.1669, 1.0792]], device='cuda:0')\n"
     ]
    }
   ],
   "source": [
    "cuda = torch.device('cuda')\n",
    "x = x.to(cuda)\n",
    "y = torch.ones_like(x, device=cuda) # create on gpu\n",
    "print(x + y)"
   ]
  },
  {
   "cell_type": "code",
   "execution_count": null,
   "metadata": {},
   "outputs": [],
   "source": []
  }
 ],
 "metadata": {
  "kernelspec": {
   "display_name": "Python 3",
   "language": "python",
   "name": "python3"
  },
  "language_info": {
   "codemirror_mode": {
    "name": "ipython",
    "version": 3
   },
   "file_extension": ".py",
   "mimetype": "text/x-python",
   "name": "python",
   "nbconvert_exporter": "python",
   "pygments_lexer": "ipython3",
   "version": "3.7.4"
  }
 },
 "nbformat": 4,
 "nbformat_minor": 2
}
