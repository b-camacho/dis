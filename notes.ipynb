{
 "cells": [
  {
   "cell_type": "markdown",
   "metadata": {},
   "source": [
    "# Network setup\n",
    "## Direct connection\n",
    "1. Connect to internet over wifi.\n",
    "1. Connect to board over eth\n",
    "1. Assign IP to eth iface `ip address add 192.168.0.120/24 broadcast + dev enp4s0`\n",
    "1. Install dnsmasq, in `/etc/dnsmasq.conf`\n",
    "```\n",
    "interface=enp4s0 # eth iface name\n",
    "dhcp-option=3,0.0.0.0\n",
    "dhcp-option=6,0.0.0.0\n",
    "dhcp-range=192.168.0.110,192.168.0.130,12h # unused address range\n",
    "```\n",
    "1. Use `nmap -v -sn 192.168.0.0/24` to get a range of unused addresses\n",
    "1. `dnsmasq -d` runs it undaemonized\n",
    "## Inet forwarding\n",
    "todo"
   ]
  },
  {
   "cell_type": "markdown",
   "metadata": {},
   "source": [
    "# Test/demo setup\n",
    "Laptop HDMI OUT -> PYNQ HDMI IN\n",
    "PYNQ HDMI OUT -> External Monitor\n",
    "\n",
    "No way to \"nicely\" stream HDMI from laptop, just add it as second monitor, then move a window playing video there\n"
   ]
  },
  {
   "cell_type": "markdown",
   "metadata": {},
   "source": [
    "# Cameras\n",
    "1. 640x480 camera needs special adjustment: (maybe optimise later)\n",
    "    ```python3\n",
    "    outframe = hdmi_out.newframe()\n",
    "    outframe[:,:,1] = frame_webcam[:,:,0]\n",
    "    outframe[:,:,2] = frame_webcam[:,:,1]\n",
    "    outframe[:,:,0] = frame_webcam[:,:,2]\n",
    "    tmp = np.copy(outframe[:, :half, :])\n",
    "    outframe[:, :half, :] = outframe[:, half:, :]\n",
    "    outframe[:, half:, :] = tmp\n",
    "    ```"
   ]
  },
  {
   "cell_type": "markdown",
   "metadata": {},
   "source": [
    "# Questions\n",
    "1. A way to nicely stream HDMI - programatically control the HDMI output"
   ]
  }
 ],
 "metadata": {
  "kernelspec": {
   "display_name": "Python 3",
   "language": "python",
   "name": "python3"
  },
  "language_info": {
   "codemirror_mode": {
    "name": "ipython",
    "version": 3
   },
   "file_extension": ".py",
   "mimetype": "text/x-python",
   "name": "python",
   "nbconvert_exporter": "python",
   "pygments_lexer": "ipython3",
   "version": "3.7.4"
  }
 },
 "nbformat": 4,
 "nbformat_minor": 2
}
