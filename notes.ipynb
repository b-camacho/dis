{
 "cells": [
  {
   "cell_type": "markdown",
   "metadata": {},
   "source": [
    "# Test/demo setup\n",
    "Laptop HDMI OUT -> PYNQ HDMI IN\n",
    "PYNQ HDMI OUT -> External Monitor\n",
    "\n",
    "No way to \"nicely\" stream HDMI from laptop, just add it as second monitor, then move a window playing video there\n"
   ]
  },
  {
   "cell_type": "markdown",
   "metadata": {},
   "source": [
    "# Cameras\n",
    "1. 640x480 camera needs special adjustment: (maybe optimise later)\n",
    "    ```python3\n",
    "    outframe = hdmi_out.newframe()\n",
    "    outframe[:,:,1] = frame_webcam[:,:,0]\n",
    "    outframe[:,:,2] = frame_webcam[:,:,1]\n",
    "    outframe[:,:,0] = frame_webcam[:,:,2]\n",
    "    tmp = np.copy(outframe[:, :half, :])\n",
    "    outframe[:, :half, :] = outframe[:, half:, :]\n",
    "    outframe[:, half:, :] = tmp\n",
    "    ```"
   ]
  },
  {
   "cell_type": "markdown",
   "metadata": {},
   "source": [
    "# Questions\n",
    "1. A way to nicely stream HDMI - programatically control the HDMI output"
   ]
  }
 ],
 "metadata": {
  "kernelspec": {
   "display_name": "Python 3",
   "language": "python",
   "name": "python3"
  },
  "language_info": {
   "codemirror_mode": {
    "name": "ipython",
    "version": 3
   },
   "file_extension": ".py",
   "mimetype": "text/x-python",
   "name": "python",
   "nbconvert_exporter": "python",
   "pygments_lexer": "ipython3",
   "version": "3.7.4"
  }
 },
 "nbformat": 4,
 "nbformat_minor": 2
}
